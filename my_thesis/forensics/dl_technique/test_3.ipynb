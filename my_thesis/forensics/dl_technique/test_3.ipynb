{
 "cells": [
  {
   "cell_type": "code",
   "execution_count": 16,
   "metadata": {},
   "outputs": [
    {
     "name": "stdout",
     "output_type": "stream",
     "text": [
      "Loaded pretrained weights for efficientnet-b0\n",
      "tensor([[-0.4331,  1.6764],\n",
      "        [-1.5141, -0.2475],\n",
      "        [-1.9706, -0.1885],\n",
      "        [ 0.5792,  0.3717],\n",
      "        [ 0.3214,  0.0276],\n",
      "        [ 0.4147,  0.5795],\n",
      "        [-0.8673,  0.7784],\n",
      "        [ 0.1788,  0.8558]], grad_fn=<AddmmBackward>)\n",
      "tensor([1, 0, 1, 1, 0, 1, 0, 1])\n",
      "tensor([1, 1, 1, 0, 0, 1, 1, 1])\n",
      "0.625\n"
     ]
    }
   ],
   "source": [
    "import torch\n",
    "import torch.nn as nn\n",
    "\n",
    "from model.backbone.efficient_net.model import EfficientNet\n",
    "\n",
    "class Identity(nn.Module):\n",
    "    def __init__(self):\n",
    "        super().__init__()\n",
    "\n",
    "    def forward(self, x):\n",
    "        return x\n",
    "\n",
    "class EfficientSuppression(nn.Module):\n",
    "    def __init__(self, pretrained=False, features_at_block='8'):\n",
    "        super(EfficientSuppression, self).__init__()\n",
    "\n",
    "        self.features_size = {\n",
    "            '0': (16, 64, 64),\n",
    "            '1': (24, 32, 32),\n",
    "            '2': (24, 32, 32),\n",
    "            '3': (40, 16, 16),\n",
    "            '4': (40, 16, 16),\n",
    "            '5': (80, 8, 8),\n",
    "            '6': (80, 8, 8),\n",
    "            '7': (80, 8, 8),\n",
    "            '8': (112, 8, 8),\n",
    "            '9': (112, 8, 8),\n",
    "            '10': (112, 8, 8),\n",
    "            '11': (192, 4, 4),\n",
    "            '12': (192, 4, 4),\n",
    "            '13': (192, 4, 4),\n",
    "            '14': (192, 4, 4),\n",
    "            '15': (320, 4, 4),\n",
    "            'final': (1280, 4, 4)\n",
    "        }\n",
    "\n",
    "        self.efficient = EfficientNet.from_pretrained('efficientnet-b0', num_classes=2, in_channels = 3,pretrained=pretrained)\n",
    "        # print(self.efficient)\n",
    "        self.features_at_block = features_at_block\n",
    "        self.final = True if features_at_block == 'final' else False\n",
    "        if not self.final:\n",
    "            self._conv_head = self.efficient.get_conv(in_channel=self.features_size[features_at_block][0], out_channel=1280)\n",
    "            self._bn1 = self.efficient._bn1\n",
    "            self._avg_pooling = self.efficient._avg_pooling\n",
    "            self._dropout = self.efficient._dropout\n",
    "            self._fc = self.efficient._fc\n",
    "            self._swish = self.efficient._swish\n",
    "\n",
    "            for i in range(int(self.features_at_block) + 1, 16):\n",
    "                self.efficient._blocks[i] = Identity()\n",
    "\n",
    "        # print(self.efficient)\n",
    "\n",
    "    def forward(self, rgb):\n",
    "        if not self.final:\n",
    "            x = self.efficient.extract_features_at_block(rgb, selected_block=int(self.features_at_block))\n",
    "            x = self._conv_head(x)\n",
    "            x = self._bn1(x)\n",
    "            x = self._avg_pooling(x)\n",
    "            x = x.squeeze(dim=-1).squeeze(dim=-1)\n",
    "            x = self._dropout(x)\n",
    "            x = self._fc(x)\n",
    "        else:\n",
    "            x = self.efficient(rgb)\n",
    "        return x\n",
    "\n",
    "\n",
    "if __name__ == \"__main__\":\n",
    "    loss = nn.CrossEntropyLoss()\n",
    "    torch.manual_seed(0)\n",
    "    for t in [str(i) for i in range(5, 6)]:\n",
    "        model = EfficientSuppression(pretrained=True, features_at_block=t)\n",
    "        x = torch.rand(8, 3, 128, 128)\n",
    "        label = torch.randint(low=0, high=2, size=(8,))\n",
    "        out = model(x)\n",
    "        values, preds = torch.max(out, dim=1)\n",
    "        print(out)\n",
    "        print(label.data)\n",
    "        print(preds)\n",
    "        accurate = torch.mean((label.data == preds), dtype=torch.float32).item()\n",
    "        print(accurate)\n",
    "        break\n"
   ]
  },
  {
   "cell_type": "markdown",
   "metadata": {},
   "source": []
  }
 ],
 "metadata": {
  "kernelspec": {
   "display_name": "Python 3.8.13 64-bit ('phucnp')",
   "language": "python",
   "name": "python3"
  },
  "language_info": {
   "codemirror_mode": {
    "name": "ipython",
    "version": 3
   },
   "file_extension": ".py",
   "mimetype": "text/x-python",
   "name": "python",
   "nbconvert_exporter": "python",
   "pygments_lexer": "ipython3",
   "version": "3.8.13"
  },
  "orig_nbformat": 4,
  "vscode": {
   "interpreter": {
    "hash": "73e4523d5c5fcabc881bfbabdc03d28b885253c65d62f8f3eb31939c7679911f"
   }
  }
 },
 "nbformat": 4,
 "nbformat_minor": 2
}
